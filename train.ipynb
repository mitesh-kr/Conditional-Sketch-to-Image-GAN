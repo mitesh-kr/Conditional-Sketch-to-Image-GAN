{
  "metadata": {
    "kernelspec": {
      "name": "python3",
      "display_name": "Python 3",
      "language": "python"
    },
    "language_info": {
      "name": "python",
      "version": "3.10.13",
      "mimetype": "text/x-python",
      "codemirror_mode": {
        "name": "ipython",
        "version": 3
      },
      "pygments_lexer": "ipython3",
      "nbconvert_exporter": "python",
      "file_extension": ".py"
    },
    "kaggle": {
      "accelerator": "gpu",
      "dataSources": [
        {
          "sourceId": 8046372,
          "sourceType": "datasetVersion",
          "datasetId": 4744649
        },
        {
          "sourceId": 8109576,
          "sourceType": "datasetVersion",
          "datasetId": 4790311
        },
        {
          "sourceId": 8118506,
          "sourceType": "datasetVersion",
          "datasetId": 4796875
        },
        {
          "sourceId": 8118779,
          "sourceType": "datasetVersion",
          "datasetId": 4797058
        },
        {
          "sourceId": 30566,
          "sourceType": "modelInstanceVersion",
          "isSourceIdPinned": true,
          "modelInstanceId": 25674
        }
      ],
      "dockerImageVersionId": 30683,
      "isInternetEnabled": true,
      "language": "python",
      "sourceType": "notebook",
      "isGpuEnabled": true
    },
    "colab": {
      "provenance": []
    }
  },
  "nbformat_minor": 5,
  "nbformat": 4,
  "cells": [
    {
      "cell_type": "code",
      "source": [
        "import torch\n",
        "import torch.nn as nn\n",
        "import pandas as pd\n",
        "import numpy as np\n",
        "import os\n",
        "import torchvision.utils as vutils\n",
        "import matplotlib.pyplot as plt\n",
        "from PIL import Image\n",
        "from torchvision import transforms\n",
        "from torch.utils.data import DataLoader\n",
        "device = torch.device(\"cuda\" if torch.cuda.is_available() else \"cpu\")\n",
        "import torch.nn.functional as F\n",
        "!pip install wandb\n",
        "\n",
        "\n",
        "\n",
        "train_data_path    = '/kaggle/input/assignment-4-dl/Assignment_4/Train_data'\n",
        "train_sketch_path  = '/kaggle/input/assignment-4-dl/Assignment_4/Train/Train_sketch/Contours'\n",
        "test_data_path     = '/kaggle/input/assignment-4-dl/Assignment_4/Test/Test_data/Test'\n",
        "test_sketch_path   = '/kaggle/input/assignment-4-dl/Assignment_4/Test/Test_sketch/Test_contours'\n",
        "train_labels       = pd.read_csv('/kaggle/input/csvvvvvv/Train_labels.csv')\n",
        "test_labels        = pd.read_csv('/kaggle/input/csvvvvvv/Test_Labels.csv')\n",
        "\n",
        "\n",
        "transform_image = transforms.Compose([\n",
        "                transforms.Resize((128, 128)),\n",
        "                transforms.CenterCrop((128, 128)),\n",
        "                transforms.ToTensor(),\n",
        "                transforms.Normalize(mean=[0.5, 0.5, 0.5], std=[0.5, 0.5, 0.5])\n",
        "            ])\n",
        "transform_sketch = transforms.Compose([\n",
        "                transforms.Resize((128, 128)),\n",
        "                transforms.CenterCrop((128, 128)),\n",
        "                transforms.ToTensor(),\n",
        "                transforms.Normalize(mean=[0.5], std=[0.5])\n",
        "            ])\n",
        "def load_images(image_folder_path, transform):\n",
        "    image_file_names = sorted(os.listdir(image_folder_path))\n",
        "    images_list = []\n",
        "    for image_name in image_file_names:\n",
        "        if image_name.split('.')[1] in ['jpg', 'png']:\n",
        "            image_path = os.path.join(image_folder_path, image_name)\n",
        "            image = Image.open(image_path)\n",
        "            # image = transforms.Resize((128, 128))(image)\n",
        "            # image = transforms.CenterCrop((128,128))(image)\n",
        "            # image = transforms.ToTensor()(image)\n",
        "            # image = transforms.Normalize(mean=[0.5, 0.5, 0.5], std=[0.5, 0.5, 0.5])(image)\n",
        "            image = transform(image)\n",
        "            images_list.append(image.unsqueeze(0))\n",
        "    images = torch.cat(images_list, dim=0)\n",
        "    return image_file_names, images\n",
        "\n",
        "train_data_name, train_data = load_images(image_folder_path = train_data_path,transform = transform_image )\n",
        "train_sketch_name, train_sketch = load_images(image_folder_path = train_sketch_path,transform = transform_sketch)\n",
        "test_data_name, test_data = load_images(image_folder_path = test_data_path, transform = transform_image)\n",
        "test_sketch_name, test_sketch = load_images(image_folder_path = test_sketch_path, transform = transform_sketch )\n",
        "\n",
        "\n",
        "\n"
      ],
      "metadata": {
        "execution": {
          "iopub.status.busy": "2024-04-14T15:42:56.291384Z",
          "iopub.execute_input": "2024-04-14T15:42:56.291776Z",
          "iopub.status.idle": "2024-04-14T15:48:59.057424Z",
          "shell.execute_reply.started": "2024-04-14T15:42:56.291746Z",
          "shell.execute_reply": "2024-04-14T15:48:59.056275Z"
        },
        "trusted": true,
        "id": "bfN5llz1GUNw",
        "outputId": "0ef4691a-a809-4ec7-b05e-d928d4981f8d"
      },
      "execution_count": null,
      "outputs": [
        {
          "name": "stdout",
          "text": "Requirement already satisfied: wandb in /opt/conda/lib/python3.10/site-packages (0.16.5)\nRequirement already satisfied: Click!=8.0.0,>=7.1 in /opt/conda/lib/python3.10/site-packages (from wandb) (8.1.7)\nRequirement already satisfied: GitPython!=3.1.29,>=1.0.0 in /opt/conda/lib/python3.10/site-packages (from wandb) (3.1.41)\nRequirement already satisfied: requests<3,>=2.0.0 in /opt/conda/lib/python3.10/site-packages (from wandb) (2.31.0)\nRequirement already satisfied: psutil>=5.0.0 in /opt/conda/lib/python3.10/site-packages (from wandb) (5.9.3)\nRequirement already satisfied: sentry-sdk>=1.0.0 in /opt/conda/lib/python3.10/site-packages (from wandb) (1.44.1)\nRequirement already satisfied: docker-pycreds>=0.4.0 in /opt/conda/lib/python3.10/site-packages (from wandb) (0.4.0)\nRequirement already satisfied: PyYAML in /opt/conda/lib/python3.10/site-packages (from wandb) (6.0.1)\nRequirement already satisfied: setproctitle in /opt/conda/lib/python3.10/site-packages (from wandb) (1.3.3)\nRequirement already satisfied: setuptools in /opt/conda/lib/python3.10/site-packages (from wandb) (69.0.3)\nRequirement already satisfied: appdirs>=1.4.3 in /opt/conda/lib/python3.10/site-packages (from wandb) (1.4.4)\nRequirement already satisfied: protobuf!=4.21.0,<5,>=3.19.0 in /opt/conda/lib/python3.10/site-packages (from wandb) (3.20.3)\nRequirement already satisfied: six>=1.4.0 in /opt/conda/lib/python3.10/site-packages (from docker-pycreds>=0.4.0->wandb) (1.16.0)\nRequirement already satisfied: gitdb<5,>=4.0.1 in /opt/conda/lib/python3.10/site-packages (from GitPython!=3.1.29,>=1.0.0->wandb) (4.0.11)\nRequirement already satisfied: charset-normalizer<4,>=2 in /opt/conda/lib/python3.10/site-packages (from requests<3,>=2.0.0->wandb) (3.3.2)\nRequirement already satisfied: idna<4,>=2.5 in /opt/conda/lib/python3.10/site-packages (from requests<3,>=2.0.0->wandb) (3.6)\nRequirement already satisfied: urllib3<3,>=1.21.1 in /opt/conda/lib/python3.10/site-packages (from requests<3,>=2.0.0->wandb) (1.26.18)\nRequirement already satisfied: certifi>=2017.4.17 in /opt/conda/lib/python3.10/site-packages (from requests<3,>=2.0.0->wandb) (2024.2.2)\nRequirement already satisfied: smmap<6,>=3.0.1 in /opt/conda/lib/python3.10/site-packages (from gitdb<5,>=4.0.1->GitPython!=3.1.29,>=1.0.0->wandb) (5.0.1)\n",
          "output_type": "stream"
        }
      ],
      "id": "bfN5llz1GUNw"
    },
    {
      "cell_type": "code",
      "source": [],
      "metadata": {
        "trusted": true,
        "id": "bjZ4_73UGUNy"
      },
      "execution_count": null,
      "outputs": [],
      "id": "bjZ4_73UGUNy"
    },
    {
      "cell_type": "code",
      "source": [
        "\n",
        "class LabelEmbedding(nn.Module):\n",
        "    def __init__(self):\n",
        "        super(LabelEmbedding, self).__init__()\n",
        "        self.fc1 = nn.Linear(7, 256)\n",
        "        self.fc2 = nn.Linear(256, 1024)\n",
        "        self.fc3 = nn.Linear(1024, 128*128)\n",
        "\n",
        "    def forward(self, x):\n",
        "        x = torch.relu(self.fc1(x))\n",
        "        x = torch.relu(self.fc2(x))\n",
        "        x = torch.tanh(self.fc3(x))\n",
        "        x = x.view(-1, 128, 128)\n",
        "        x = x.unsqueeze(1)\n",
        "        return x.detach()\n",
        "Embedding = LabelEmbedding()\n",
        "\n",
        "\n",
        "\n",
        "\n",
        "train_label = train_labels.iloc[:,1:]\n",
        "train_label = torch.tensor(train_label.values, dtype=torch.float32)\n",
        "test_label = test_labels.iloc[:,1:]\n",
        "test_label = torch.tensor(test_label.values, dtype=torch.float32)\n",
        "\n",
        "train_label = Embedding(train_label)\n",
        "for file_name,label_name in zip(train_data_name[0:], train_labels.iloc[:,0]):\n",
        "    check = False\n",
        "    if file_name.split('.')[0] == label_name:\n",
        "        check = True\n",
        "if check == True:\n",
        "    train_data = torch.cat((train_data, train_label), dim = 1)\n",
        "\n",
        "print(train_data.shape)\n",
        "\n",
        "train_loader = DataLoader(train_data, batch_size = 32, shuffle=True, num_workers=3,pin_memory=True)\n",
        "\n",
        "class Discriminator(nn.Module):\n",
        "    def __init__(self):\n",
        "        super(Discriminator, self).__init__()\n",
        "\n",
        "        self.conv_layers = nn.Sequential(\n",
        "            nn.Conv2d(4, 32, kernel_size = 4, stride = 2, padding = 1),\n",
        "            nn.BatchNorm2d(32),\n",
        "            nn.LeakyReLU(0.2, inplace = True),\n",
        "            nn.Conv2d(32, 64, kernel_size= 4, stride = 2, padding = 1),\n",
        "            nn.BatchNorm2d(64),\n",
        "            nn.LeakyReLU(0.2, inplace = True),\n",
        "            nn.Dropout(0.4),\n",
        "            nn.Conv2d(64, 1, kernel_size = 4, stride= 2, padding = 1),\n",
        "            nn.BatchNorm2d(1),\n",
        "            nn.LeakyReLU(0.2, inplace = True),\n",
        "            nn.Dropout(0.4),\n",
        "        )\n",
        "        self.fc_layers = nn.Sequential(\n",
        "            nn.Flatten(),\n",
        "            nn.Linear(256, 1),\n",
        "            nn.Sigmoid()\n",
        "        )\n",
        "    def forward(self, x):\n",
        "        x = self.conv_layers(x)\n",
        "        x = self.fc_layers(x)\n",
        "        return x\n",
        "\n",
        "# class Generator(nn.Module):\n",
        "#     def __init__(self):\n",
        "#         super(Generator, self).__init__()\n",
        "\n",
        "#         self.conv1 = nn.Conv2d(2, 64, kernel_size=4, stride=2, padding=1)\n",
        "#         self.conv2 = nn.Conv2d(64, 128, kernel_size=4, stride=2, padding=1)\n",
        "#         self.conv3 = nn.Conv2d(128, 256, kernel_size=4, stride=2, padding=1)\n",
        "#         self.conv4 = nn.Conv2d(256, 512, kernel_size=4, stride=2, padding=1)\n",
        "#         self.conv5 = nn.Conv2d(512, 1024, kernel_size=4, stride=2, padding=1)\n",
        "\n",
        "#         self.deconv1 = nn.ConvTranspose2d(1024, 512, kernel_size=4, stride=2, padding=1)\n",
        "#         self.deconv2 = nn.ConvTranspose2d(512, 256, kernel_size=4, stride=2, padding=1)\n",
        "#         self.deconv3 = nn.ConvTranspose2d(256, 128, kernel_size=4, stride=2, padding=1)\n",
        "#         self.deconv4 = nn.ConvTranspose2d(128, 64, kernel_size=4, stride=2, padding=1)\n",
        "#         self.deconv5 = nn.ConvTranspose2d(64, 3, kernel_size=4, stride=2, padding=1)\n",
        "\n",
        "#         self.batch_norm = nn.BatchNorm2d(512)\n",
        "#         self.leaky_relu = nn.LeakyReLU(0.2)\n",
        "#         self.tanh = nn.Tanh()\n",
        "\n",
        "#     def forward(self, x):\n",
        "#         x1 = self.leaky_relu(self.conv1(x))\n",
        "#         x2 = self.leaky_relu(self.conv2(x1))\n",
        "#         x3 = self.leaky_relu(self.conv3(x2))\n",
        "#         x4 = self.leaky_relu(self.conv4(x3))\n",
        "#         x5 = self.leaky_relu(self.conv5(x4))\n",
        "\n",
        "#         y = self.leaky_relu(self.batch_norm(self.deconv1(x5)))\n",
        "#         y = (y + x4)\n",
        "#         y = self.leaky_relu(self.deconv2(y))\n",
        "#         y = (y + x3)\n",
        "#         y = self.leaky_relu(self.deconv3(y))\n",
        "#         y = (y + x2)\n",
        "#         y = self.leaky_relu(self.deconv4(y))\n",
        "#         y = (y + x1)\n",
        "#         y = self.tanh(self.deconv5(y))\n",
        "\n",
        "#         return y\n",
        "\n",
        "\n",
        "class Generator(nn.Module):\n",
        "    def __init__(self):\n",
        "        super(Generator, self).__init__()\n",
        "        self.encoder = nn.Sequential(\n",
        "            nn.Conv2d(2, 64, kernel_size=4, stride=2, padding=1),\n",
        "            nn.ReLU(),\n",
        "            nn.Conv2d(64, 128, kernel_size=4, stride=2, padding=1),\n",
        "            nn.BatchNorm2d(128),\n",
        "            nn.ReLU(),\n",
        "            nn.Conv2d(128, 256, kernel_size=4, stride=2, padding=1),\n",
        "            nn.BatchNorm2d(256),\n",
        "            nn.ReLU(),\n",
        "            nn.Conv2d(256, 512, kernel_size=4, stride=2, padding=1),\n",
        "            nn.BatchNorm2d(512),\n",
        "            nn.ReLU(),\n",
        "            nn.Conv2d(512, 1024, kernel_size=4, stride=2, padding=1),\n",
        "            nn.BatchNorm2d(1024),\n",
        "            nn.ReLU()\n",
        "        )\n",
        "        self.decoder = nn.Sequential(\n",
        "            nn.ConvTranspose2d(1024, 512, kernel_size=4, stride=2, padding=1),\n",
        "            nn.BatchNorm2d(512),\n",
        "            nn.ReLU(),\n",
        "            nn.ConvTranspose2d(512, 256, kernel_size=4, stride=2, padding=1),\n",
        "            nn.BatchNorm2d(256),\n",
        "            nn.ReLU(),\n",
        "            nn.ConvTranspose2d(256, 128, kernel_size=4, stride=2, padding=1),\n",
        "            nn.BatchNorm2d(128),\n",
        "            nn.ReLU(),\n",
        "            nn.ConvTranspose2d(128, 64, kernel_size=4, stride=2, padding=1),\n",
        "            nn.BatchNorm2d(64),\n",
        "            nn.ReLU(),\n",
        "            nn.ConvTranspose2d(64, 3, kernel_size=4, stride=2, padding=1),\n",
        "            nn.Tanh()\n",
        "        )\n",
        "\n",
        "    def forward(self, x):\n",
        "        x = self.encoder(x)\n",
        "        x = self.decoder(x)\n",
        "        return x\n"
      ],
      "metadata": {
        "execution": {
          "iopub.status.busy": "2024-04-14T15:49:54.233668Z",
          "iopub.execute_input": "2024-04-14T15:49:54.234562Z",
          "iopub.status.idle": "2024-04-14T15:49:57.004953Z",
          "shell.execute_reply.started": "2024-04-14T15:49:54.234506Z",
          "shell.execute_reply": "2024-04-14T15:49:57.003477Z"
        },
        "trusted": true,
        "id": "EO_F2fHIGUNz",
        "outputId": "1f0a98ec-9b04-4864-e309-431f71c8cd62"
      },
      "execution_count": null,
      "outputs": [
        {
          "name": "stdout",
          "text": "torch.Size([10015, 4, 128, 128])\n",
          "output_type": "stream"
        }
      ],
      "id": "EO_F2fHIGUNz"
    },
    {
      "cell_type": "code",
      "source": [
        "\n",
        "class Classifier(nn.Module):\n",
        "    def __init__(self):\n",
        "        super(Classifier, self).__init__()\n",
        "\n",
        "        self.conv_layers = nn.Sequential(\n",
        "            nn.Conv2d(3, 32, kernel_size=3, stride=1, padding=1),\n",
        "            nn.BatchNorm2d(32),\n",
        "            nn.ReLU(),\n",
        "            nn.MaxPool2d(kernel_size=2, stride=2),\n",
        "            nn.Dropout(0.5),\n",
        "            nn.Conv2d(32, 64, kernel_size=3, stride=1, padding=1),\n",
        "            nn.BatchNorm2d(64),\n",
        "            nn.ReLU(),\n",
        "            nn.MaxPool2d(kernel_size=2, stride=2),\n",
        "            nn.Dropout(0.4),\n",
        "            nn.Conv2d(64, 128, kernel_size=3, stride=1, padding=1),\n",
        "            nn.BatchNorm2d(128),\n",
        "            nn.ReLU(),\n",
        "            nn.MaxPool2d(kernel_size=2, stride=2),\n",
        "            nn.Dropout(0.4),\n",
        "            nn.Conv2d(128, 64, kernel_size=3, stride=1, padding=1),\n",
        "            nn.BatchNorm2d(64),\n",
        "            nn.ReLU(),\n",
        "            nn.MaxPool2d(kernel_size=2, stride=2),\n",
        "            nn.Dropout(0.5),\n",
        "            nn.Conv2d(64, 32, kernel_size=3, stride=1, padding=1),\n",
        "            nn.BatchNorm2d(32),\n",
        "            nn.ReLU(),\n",
        "            nn.MaxPool2d(kernel_size=2, stride=2),\n",
        "            nn.Dropout(0.5)\n",
        "        )\n",
        "\n",
        "        self.fc_layers = nn.Sequential(\n",
        "            nn.Flatten(),\n",
        "            nn.Linear(32 * 4 * 4, 256),\n",
        "            nn.ReLU(),\n",
        "            nn.Linear(256, 128),\n",
        "            nn.ReLU(),\n",
        "            nn.Linear(128, 77),\n",
        "            nn.ReLU(),\n",
        "            nn.Linear(77, 7)\n",
        "        )\n",
        "\n",
        "    def forward(self, x):\n",
        "        x = self.conv_layers(x)\n",
        "        x = self.fc_layers(x)\n",
        "        return x\n",
        "\n",
        "\n"
      ],
      "metadata": {
        "execution": {
          "iopub.status.busy": "2024-04-14T15:52:16.55384Z",
          "iopub.execute_input": "2024-04-14T15:52:16.554218Z",
          "iopub.status.idle": "2024-04-14T15:52:16.569116Z",
          "shell.execute_reply.started": "2024-04-14T15:52:16.554186Z",
          "shell.execute_reply": "2024-04-14T15:52:16.568207Z"
        },
        "trusted": true,
        "id": "cvhIICs8GUN0"
      },
      "execution_count": null,
      "outputs": [],
      "id": "cvhIICs8GUN0"
    },
    {
      "cell_type": "code",
      "source": [
        "# !pip install --upgrade wandb\n",
        "import wandb\n",
        "api_key = '4255b25e16e2daac5513ba068e73e46cbb68b63f'\n",
        "wandb.login(key = api_key)\n",
        "wandb.init(project=\"DL Assignment 4_2\", entity=\"m23mac004\")"
      ],
      "metadata": {
        "execution": {
          "iopub.status.busy": "2024-04-14T15:55:31.750517Z",
          "iopub.execute_input": "2024-04-14T15:55:31.75093Z",
          "iopub.status.idle": "2024-04-14T15:55:54.301881Z",
          "shell.execute_reply.started": "2024-04-14T15:55:31.750894Z",
          "shell.execute_reply": "2024-04-14T15:55:54.300852Z"
        },
        "trusted": true,
        "id": "0Xo5G3N3GUN2",
        "outputId": "f6bb5fa7-b625-43bf-c776-e961fad2d292",
        "colab": {
          "referenced_widgets": [
            ""
          ]
        }
      },
      "execution_count": null,
      "outputs": [
        {
          "name": "stderr",
          "text": "\u001b[34m\u001b[1mwandb\u001b[0m: \u001b[33mWARNING\u001b[0m Calling wandb.login() after wandb.init() has no effect.\n",
          "output_type": "stream"
        },
        {
          "output_type": "display_data",
          "data": {
            "text/plain": "<IPython.core.display.HTML object>",
            "text/html": "Finishing last run (ID:h6d4obpc) before initializing another..."
          },
          "metadata": {}
        },
        {
          "output_type": "display_data",
          "data": {
            "text/plain": "VBox(children=(Label(value='0.001 MB of 0.001 MB uploaded\\r'), FloatProgress(value=1.0, max=1.0)))",
            "application/vnd.jupyter.widget-view+json": {
              "version_major": 2,
              "version_minor": 0,
              "model_id": ""
            }
          },
          "metadata": {}
        },
        {
          "output_type": "display_data",
          "data": {
            "text/plain": "<IPython.core.display.HTML object>",
            "text/html": "<style>\n    table.wandb td:nth-child(1) { padding: 0 10px; text-align: left ; width: auto;} td:nth-child(2) {text-align: left ; width: 100%}\n    .wandb-row { display: flex; flex-direction: row; flex-wrap: wrap; justify-content: flex-start; width: 100% }\n    .wandb-col { display: flex; flex-direction: column; flex-basis: 100%; flex: 1; padding: 10px; }\n    </style>\n<div class=\"wandb-row\"><div class=\"wandb-col\"><h3>Run history:</h3><br/><table class=\"wandb\"><tr><td>D_Loss</td><td>▇▄▆▆█▇▇▇▇▄▁▆▇▇▇▄▇▇▇▇▇▇▇▇▆▁▁▁▁▁▁▁▁▁▁▁</td></tr><tr><td>D_Loss_Fake</td><td>█▄▅▅▆▆▆▅▅▃▁▅▆▅▅▃▆▅▅▆▆▆▆▆▅▁▁▁▁▁▁▁▁▁▁▁</td></tr><tr><td>D_Loss_Real</td><td>▃▃▆▆█▇▇▇▇▃▁▆▇▇▇▄▇▇▇▇▇▇▇▇▆▁▁▁▁▁▁▁▁▁▁▁</td></tr><tr><td>G_Loss</td><td>▁▂▁▂▁▁▁▁▁▂▃▂▁▁▁▂▁▁▁▁▁▁▁▁▂▅▆▆▆▇▇▇▇███</td></tr><tr><td>epoch</td><td>▁▁▁▂▂▂▂▂▃▃▃▃▃▄▄▄▄▄▅▅▅▅▅▆▆▆▆▆▇▇▇▇▇███</td></tr></table><br/></div><div class=\"wandb-col\"><h3>Run summary:</h3><br/><table class=\"wandb\"><tr><td>D_Loss</td><td>0.00028</td></tr><tr><td>D_Loss_Fake</td><td>0.00015</td></tr><tr><td>D_Loss_Real</td><td>0.00013</td></tr><tr><td>G_Loss</td><td>11.35503</td></tr><tr><td>epoch</td><td>36</td></tr></table><br/></div></div>"
          },
          "metadata": {}
        },
        {
          "output_type": "display_data",
          "data": {
            "text/plain": "<IPython.core.display.HTML object>",
            "text/html": " View run <strong style=\"color:#cdcd00\">easy-snowflake-1</strong> at: <a href='https://wandb.ai/m23mac004/DL%20Assignment%204/runs/h6d4obpc/workspace' target=\"_blank\">https://wandb.ai/m23mac004/DL%20Assignment%204/runs/h6d4obpc/workspace</a><br/>Synced 5 W&B file(s), 0 media file(s), 0 artifact file(s) and 0 other file(s)"
          },
          "metadata": {}
        },
        {
          "output_type": "display_data",
          "data": {
            "text/plain": "<IPython.core.display.HTML object>",
            "text/html": "Find logs at: <code>./wandb/run-20240414_144827-h6d4obpc/logs</code>"
          },
          "metadata": {}
        },
        {
          "output_type": "display_data",
          "data": {
            "text/plain": "<IPython.core.display.HTML object>",
            "text/html": "Successfully finished last run (ID:h6d4obpc). Initializing new run:<br/>"
          },
          "metadata": {}
        },
        {
          "output_type": "display_data",
          "data": {
            "text/plain": "<IPython.core.display.HTML object>",
            "text/html": "wandb version 0.16.6 is available!  To upgrade, please run:\n $ pip install wandb --upgrade"
          },
          "metadata": {}
        },
        {
          "output_type": "display_data",
          "data": {
            "text/plain": "<IPython.core.display.HTML object>",
            "text/html": "Tracking run with wandb version 0.16.5"
          },
          "metadata": {}
        },
        {
          "output_type": "display_data",
          "data": {
            "text/plain": "<IPython.core.display.HTML object>",
            "text/html": "Run data is saved locally in <code>/kaggle/working/wandb/run-20240414_155531-6tr4w3zy</code>"
          },
          "metadata": {}
        },
        {
          "output_type": "display_data",
          "data": {
            "text/plain": "<IPython.core.display.HTML object>",
            "text/html": "Syncing run <strong><a href='https://wandb.ai/m23mac004/DL%20Assignment%204_2/runs/6tr4w3zy/workspace' target=\"_blank\">youthful-glade-1</a></strong> to <a href='https://wandb.ai/m23mac004/DL%20Assignment%204_2' target=\"_blank\">Weights & Biases</a> (<a href='https://wandb.me/run' target=\"_blank\">docs</a>)<br/>"
          },
          "metadata": {}
        },
        {
          "output_type": "display_data",
          "data": {
            "text/plain": "<IPython.core.display.HTML object>",
            "text/html": " View project at <a href='https://wandb.ai/m23mac004/DL%20Assignment%204_2' target=\"_blank\">https://wandb.ai/m23mac004/DL%20Assignment%204_2</a>"
          },
          "metadata": {}
        },
        {
          "output_type": "display_data",
          "data": {
            "text/plain": "<IPython.core.display.HTML object>",
            "text/html": " View run at <a href='https://wandb.ai/m23mac004/DL%20Assignment%204_2/runs/6tr4w3zy/workspace' target=\"_blank\">https://wandb.ai/m23mac004/DL%20Assignment%204_2/runs/6tr4w3zy/workspace</a>"
          },
          "metadata": {}
        },
        {
          "execution_count": 21,
          "output_type": "execute_result",
          "data": {
            "text/html": "<button onClick=\"this.nextSibling.style.display='block';this.style.display='none';\">Display W&B run</button><iframe src='https://wandb.ai/m23mac004/DL%20Assignment%204_2/runs/6tr4w3zy?jupyter=true' style='border:none;width:100%;height:420px;display:none;'></iframe>",
            "text/plain": "<wandb.sdk.wandb_run.Run at 0x79ab92bae830>"
          },
          "metadata": {}
        }
      ],
      "id": "0Xo5G3N3GUN2"
    },
    {
      "cell_type": "code",
      "source": [
        "discriminator = Discriminator().to(device)\n",
        "generator = Generator().to(device)\n",
        "classifier = Classifier().to(device)\n",
        "classifier.load_state_dict(torch.load('/kaggle/input/classifier/pytorch/gener/1/classifier.pth'))\n",
        "loss_function = nn.BCELoss()\n",
        "loss_function2 = nn.CrossEntropyLoss()\n",
        "\n",
        "d_optimizer = torch.optim.Adam(discriminator.parameters(), lr = 0.0002, betas=(0.5, 0.999))\n",
        "g_optimizer = torch.optim.Adam(generator.parameters(), lr = 0.0002, betas=(0.5, 0.999))\n",
        "\n",
        "\n",
        "epochs = 50\n",
        "for epoch in range(epochs):\n",
        "    d_loss_real_list  = []\n",
        "    d_loss_fake_list  = []\n",
        "    d_loss_total = 0\n",
        "    g_loss_total = 0\n",
        "    d_real_score = 0\n",
        "    d_fake_score = 0\n",
        "    classi_loss = 0\n",
        "    classi_accuarcy = 0\n",
        "    for X in train_loader:\n",
        "\n",
        "        d_optimizer.zero_grad()\n",
        "        real_data = X\n",
        "        real_label = torch.ones(X.shape[0], 1)\n",
        "        d_real_output = discriminator(real_data.to(device))\n",
        "        d_loss_real = loss_function(d_real_output, real_label.to(device))\n",
        "        d_loss_real_list.append(d_loss_real.cpu().item())\n",
        "        d_real_score += torch.mean(d_real_output).item()\n",
        "        # d_loss_real.backward()\n",
        "\n",
        "        X_sketch  = train_sketch[torch.randperm(train_sketch.shape[0])[:X.shape[0]]]\n",
        "        # X_sketch  = add_noise(X_sketch)\n",
        "        random_label = Embedding(torch.eye(7)[torch.randint(0, 7, size=(X.shape[0],))])\n",
        "        X_sketch = torch.cat([X_sketch, random_label], dim=1)\n",
        "        fake_data = generator(X_sketch.to(device))\n",
        "        fake_data = torch.cat([fake_data, random_label.to(device)], dim = 1)\n",
        "        fake_label_d = torch.zeros(X.shape[0], 1)\n",
        "\n",
        "        # d_fake_output = discriminator(fake_data.detach())\n",
        "        d_fake_output = discriminator(fake_data)\n",
        "        d_loss_fake = loss_function(d_fake_output, fake_label_d.to(device))\n",
        "        d_loss_fake_list.append(d_loss_fake.cpu().item())\n",
        "        d_fake_score += torch.mean(d_fake_output).item()\n",
        "        # d_loss_fake.backward()\n",
        "        # d_optimizer.step()\n",
        "\n",
        "        d_loss = d_loss_real + d_loss_fake\n",
        "        d_loss.backward()\n",
        "        d_optimizer.step()\n",
        "\n",
        "        d_loss_total += d_loss.item()\n",
        "\n",
        "        g_optimizer.zero_grad()\n",
        "        X_sketch  = train_sketch[torch.randperm(train_sketch.shape[0])[:X.shape[0]]]\n",
        "        # X_sketch  = add_noise(X_sketch)\n",
        "        random_label = Embedding(torch.eye(7)[torch.randint(0, 7, size=(X.shape[0],))])\n",
        "        X_sketch = torch.cat([X_sketch, random_label], dim=1)\n",
        "        fake_data = generator(X_sketch.to(device))\n",
        "        fake_data = torch.cat([fake_data, random_label.to(device)], dim=1)\n",
        "        fake_label = torch.ones(X.shape[0], 1)\n",
        "\n",
        "        g_output = discriminator(fake_data.to(device))\n",
        "        fake_label_g = torch.ones(X.shape[0], 1)\n",
        "        g_loss = loss_function(g_output, fake_label_g.to(device))\n",
        "        g_loss.backward()\n",
        "        g_optimizer.step()\n",
        "        g_loss_total += g_loss.item()\n",
        "\n",
        "\n",
        "\n",
        "\n",
        "        g_optimizer.zero_grad()\n",
        "        c_optimizer.zero_grad()\n",
        "        X_sketch  = train_sketch[torch.randperm(train_sketch.shape[0])[:X.shape[0]]]\n",
        "\n",
        "\n",
        "        classification_true_labels = torch.eye(7)[torch.randint(0, 7, size=(X.shape[0],))]\n",
        "\n",
        "        random_label = Embedding(classification_true_labels)\n",
        "        X_sketch = torch.cat([X_sketch, random_label], dim=1)\n",
        "        fake_data = generator(X_sketch.to(device))\n",
        "        y_pred_classification = classifier(fake_data)\n",
        "\n",
        "        classification_loss = loss_function2(y_pred_classification, torch.max(classification_true_labels.to(device), 1)[1])\n",
        "        classification_acc = ((torch.max(y_pred_classification, 1)[1] == torch.max(classification_true_labels.to(device), 1)[1]).sum().item()) / X.shape[0]\n",
        "        classification_loss.backward()\n",
        "        g_optimizer.step()\n",
        "        classi_loss += classification_loss.item()\n",
        "        classi_accuarcy += classification_acc\n",
        "\n",
        "    d_real_loss = np.mean(d_loss_real_list)\n",
        "    d_fake_loss = np.mean(d_loss_fake_list)\n",
        "\n",
        "    wandb.log({\n",
        "                \"epoch\": epoch + 1,\n",
        "                \"D_Loss_Real\": d_real_loss,\n",
        "                \"D_Loss_Fake\": d_fake_loss,\n",
        "                \"D_Loss\": d_loss_total / len(train_loader),\n",
        "                \"G_Loss\": g_loss_total / len(train_loader),\n",
        "#                 \"D_Real_Score\": d_real_score / len(train_loader),\n",
        "#                 \"D_Fake_Score\": d_fake_score / len(train_loader),\n",
        "#                 \"C_Loss\" : classi_loss / len(train_loader),\n",
        "#                 \"C_Accuracy\": (classi_accuarcy * 100) / len(train_loader)\n",
        "\n",
        "            })\n",
        "\n",
        "    print(f\"Epoch [{epoch+1}/{epochs}] | \"\n",
        "      f\"D_Loss_Real: {d_real_loss:.4f} | \"\n",
        "      f\"D_Loss_Fake: {d_fake_loss:.4f} | \"\n",
        "      f\"D_Real_Score: {d_real_score / len(train_loader):.4f} | \"\n",
        "      f\"D_Fake_Score: {d_fake_score / len(train_loader):.4f} | \"\n",
        "      f\"D_Loss: {d_loss_total / len(train_loader):.4f} | \"\n",
        "      f\"G_Loss: {g_loss_total / len(train_loader):.4f} | \"\n",
        "      f\"C_Loss: {classi_loss / len(train_loader):.4f}  | \"\n",
        "      f\"C_Accuracy: {(classi_accuarcy * 100) / len(train_loader):.4f}\")\n",
        "\n",
        "    stats = (0.5, 0.5, 0.5), (0.5, 0.5, 0.5)\n",
        "    def denorm(img_tensors):\n",
        "        return img_tensors * stats[1][0] + stats[0][0]\n",
        "    num_class = 7\n",
        "    grid = []\n",
        "    classi_loss = 0\n",
        "    classi_accuarcy = 0\n",
        "    for c in range(num_class):\n",
        "        samples = test_sketch[torch.randperm(test_sketch.shape[0])[:10]]\n",
        "        label = torch.eye(num_class)[c]\n",
        "        labels = label.unsqueeze(0).repeat(samples.shape[0], 1)\n",
        "        labels_classification = torch.max(labels, 1)[1]\n",
        "        labels = Embedding(labels)\n",
        "        samples = torch.cat([samples, labels], dim=1)\n",
        "        images = generator(samples.to(device))\n",
        "\n",
        "        y_pred_cla = classifier(images)\n",
        "        classification_loss = F.cross_entropy(y_pred_cla, labels_classification.to(device))\n",
        "        classi_loss += classification_loss.item()\n",
        "\n",
        "        classification_accuarcy = (((torch.max(y_pred_cla, 1)[1] == labels_classification.to(device))).sum().item()) / 10\n",
        "        classi_accuarcy += classification_accuarcy\n",
        "\n",
        "        grid_image = vutils.make_grid(images, nrow=10, padding=2)\n",
        "        grid.append(grid_image)\n",
        "    grid = torch.cat(grid, dim = 1)\n",
        "    directory = 'generated_images_DL1 lr = 0.00002__4'\n",
        "    os.makedirs(directory, exist_ok=True)\n",
        "    vutils.save_image(denorm(grid), f\"{directory}/epoch_{epoch}.png\")\n",
        "\n",
        "    print(f'classification_loss: {classi_loss / 7} | '\n",
        "        f'classification_accuracy: {((classi_accuarcy / 7) * 100):.4f}')\n",
        "\n",
        "stats = (0.5, 0.5, 0.5), (0.5, 0.5, 0.5)\n",
        "def denorm(img_tensors):\n",
        "    return img_tensors * stats[1][0] + stats[0][0]\n",
        "\n",
        "num_class = 7\n",
        "grid = []\n",
        "for c in range(num_class):\n",
        "    images = test_data[torch.max(test_label.data, 1)[1] == c][:10]\n",
        "    grid_image = vutils.make_grid(images, nrow=10, padding=2)\n",
        "    grid.append(grid_image)\n",
        "grid = torch.cat(grid, dim = 1)\n",
        "directory = 'Original Samples'\n",
        "os.makedirs(directory, exist_ok=True)\n",
        "vutils.save_image(denorm(grid), f\"{directory}/Original_sample.png\")"
      ],
      "metadata": {
        "execution": {
          "iopub.status.busy": "2024-04-14T15:56:14.955537Z",
          "iopub.execute_input": "2024-04-14T15:56:14.955952Z",
          "iopub.status.idle": "2024-04-14T16:58:15.381759Z",
          "shell.execute_reply.started": "2024-04-14T15:56:14.955921Z",
          "shell.execute_reply": "2024-04-14T16:58:15.380782Z"
        },
        "trusted": true,
        "id": "9uho5xoPGUN3",
        "outputId": "10d708a7-cecb-47b4-d395-ee9521f714bc"
      },
      "execution_count": null,
      "outputs": [
        {
          "name": "stdout",
          "text": "Epoch [1/50] | D_Loss_Real: 0.3793 | D_Loss_Fake: 2.3142 | D_Real_Score: 0.6914 | D_Fake_Score: 0.8315 | D_Loss: 2.6935 | G_Loss: 0.2035 | C_Loss: 1.9478  | C_Accuracy: 14.5184\nclassification_loss: 1.9468941688537598 | classification_accuracy: 14.2857\nEpoch [2/50] | D_Loss_Real: 0.6663 | D_Loss_Fake: 0.7306 | D_Real_Score: 0.5139 | D_Fake_Score: 0.5180 | D_Loss: 1.3969 | G_Loss: 0.6630 | C_Loss: 1.9256  | C_Accuracy: 15.5970\nclassification_loss: 2.3539233718599593 | classification_accuracy: 11.4286\nEpoch [3/50] | D_Loss_Real: 0.6375 | D_Loss_Fake: 0.7304 | D_Real_Score: 0.5293 | D_Fake_Score: 0.5175 | D_Loss: 1.3680 | G_Loss: 0.6679 | C_Loss: 0.3318  | C_Accuracy: 84.9238\nclassification_loss: 3.2494504842314718 | classification_accuracy: 65.7143\nEpoch [4/50] | D_Loss_Real: 0.5306 | D_Loss_Fake: 0.6438 | D_Real_Score: 0.5961 | D_Fake_Score: 0.4676 | D_Loss: 1.1744 | G_Loss: 0.9114 | C_Loss: 0.0284  | C_Accuracy: 99.1514\nclassification_loss: 2.107721555063368 | classification_accuracy: 60.0000\nEpoch [5/50] | D_Loss_Real: 0.7078 | D_Loss_Fake: 0.6858 | D_Real_Score: 0.4994 | D_Fake_Score: 0.4909 | D_Loss: 1.3936 | G_Loss: 0.8101 | C_Loss: 0.0123  | C_Accuracy: 99.6306\nclassification_loss: 2.1490790113671534 | classification_accuracy: 67.1429\nEpoch [6/50] | D_Loss_Real: 0.6536 | D_Loss_Fake: 0.6284 | D_Real_Score: 0.5279 | D_Fake_Score: 0.4537 | D_Loss: 1.2821 | G_Loss: 1.0143 | C_Loss: 0.0325  | C_Accuracy: 99.1514\nclassification_loss: 3.31582024583804 | classification_accuracy: 57.1429\nEpoch [7/50] | D_Loss_Real: 0.7054 | D_Loss_Fake: 0.7074 | D_Real_Score: 0.4959 | D_Fake_Score: 0.5054 | D_Loss: 1.4128 | G_Loss: 0.7099 | C_Loss: 0.0057  | C_Accuracy: 99.8403\nclassification_loss: 1.8774948370507798 | classification_accuracy: 72.8571\nEpoch [8/50] | D_Loss_Real: 0.7061 | D_Loss_Fake: 0.7070 | D_Real_Score: 0.4944 | D_Fake_Score: 0.5062 | D_Loss: 1.4131 | G_Loss: 0.6938 | C_Loss: 0.0009  | C_Accuracy: 99.9900\nclassification_loss: 3.3733905093063976 | classification_accuracy: 64.2857\nEpoch [9/50] | D_Loss_Real: 0.6931 | D_Loss_Fake: 0.7124 | D_Real_Score: 0.5003 | D_Fake_Score: 0.5092 | D_Loss: 1.4054 | G_Loss: 0.6802 | C_Loss: 0.0002  | C_Accuracy: 100.0000\nclassification_loss: 2.811306188785629 | classification_accuracy: 60.0000\nEpoch [10/50] | D_Loss_Real: 0.4427 | D_Loss_Fake: 0.3498 | D_Real_Score: 0.6651 | D_Fake_Score: 0.2527 | D_Loss: 0.7925 | G_Loss: 3.1364 | C_Loss: 1.1022  | C_Accuracy: 55.3521\nclassification_loss: 1.9463212830679757 | classification_accuracy: 15.7143\nEpoch [11/50] | D_Loss_Real: 0.0340 | D_Loss_Fake: 0.0038 | D_Real_Score: 0.9669 | D_Fake_Score: 0.0037 | D_Loss: 0.0378 | G_Loss: 7.3067 | C_Loss: 1.9465  | C_Accuracy: 14.5876\nclassification_loss: 1.9468491077423096 | classification_accuracy: 14.2857\nEpoch [12/50] | D_Loss_Real: 0.0116 | D_Loss_Fake: 0.0081 | D_Real_Score: 0.9885 | D_Fake_Score: 0.0078 | D_Loss: 0.0197 | G_Loss: 6.4958 | C_Loss: 1.1914  | C_Accuracy: 47.5439\nclassification_loss: 1.6492156891368464 | classification_accuracy: 72.8571\nEpoch [13/50] | D_Loss_Real: 0.0997 | D_Loss_Fake: 0.0859 | D_Real_Score: 0.9403 | D_Fake_Score: 0.0679 | D_Loss: 0.1856 | G_Loss: 5.1565 | C_Loss: 0.0404  | C_Accuracy: 98.8219\nclassification_loss: 1.3415652821092212 | classification_accuracy: 81.4286\nEpoch [14/50] | D_Loss_Real: 0.6852 | D_Loss_Fake: 0.7319 | D_Real_Score: 0.5348 | D_Fake_Score: 0.5001 | D_Loss: 1.4171 | G_Loss: 1.0220 | C_Loss: 0.0135  | C_Accuracy: 99.6705\nclassification_loss: 2.68806618278258 | classification_accuracy: 64.2857\nEpoch [15/50] | D_Loss_Real: 0.6884 | D_Loss_Fake: 0.7035 | D_Real_Score: 0.5086 | D_Fake_Score: 0.4979 | D_Loss: 1.3919 | G_Loss: 0.8134 | C_Loss: 0.0570  | C_Accuracy: 98.6505\nclassification_loss: 0.8421174378757185 | classification_accuracy: 82.8571\nEpoch [16/50] | D_Loss_Real: 0.6390 | D_Loss_Fake: 0.7042 | D_Real_Score: 0.5456 | D_Fake_Score: 0.4922 | D_Loss: 1.3431 | G_Loss: 0.8933 | C_Loss: 0.0071  | C_Accuracy: 99.8902\nclassification_loss: 1.3741891213225688 | classification_accuracy: 72.8571\nEpoch [17/50] | D_Loss_Real: 0.6921 | D_Loss_Fake: 0.7072 | D_Real_Score: 0.5076 | D_Fake_Score: 0.5022 | D_Loss: 1.3993 | G_Loss: 0.7149 | C_Loss: 0.0007  | C_Accuracy: 99.9800\nclassification_loss: 1.7068954258474132 | classification_accuracy: 67.1429\nEpoch [18/50] | D_Loss_Real: 0.6999 | D_Loss_Fake: 0.6984 | D_Real_Score: 0.5005 | D_Fake_Score: 0.4997 | D_Loss: 1.3983 | G_Loss: 0.7010 | C_Loss: 0.0002  | C_Accuracy: 100.0000\nclassification_loss: 2.2419641467408695 | classification_accuracy: 64.2857\nEpoch [19/50] | D_Loss_Real: 0.6775 | D_Loss_Fake: 0.6711 | D_Real_Score: 0.5192 | D_Fake_Score: 0.4812 | D_Loss: 1.3486 | G_Loss: 0.7846 | C_Loss: 0.0048  | C_Accuracy: 99.9101\nclassification_loss: 2.0387740118193536 | classification_accuracy: 72.8571\nEpoch [20/50] | D_Loss_Real: 0.5690 | D_Loss_Fake: 0.5544 | D_Real_Score: 0.5990 | D_Fake_Score: 0.3997 | D_Loss: 1.1235 | G_Loss: 1.3188 | C_Loss: 0.0748  | C_Accuracy: 98.9417\nclassification_loss: 2.618304369958683 | classification_accuracy: 58.5714\nEpoch [21/50] | D_Loss_Real: 0.6375 | D_Loss_Fake: 0.5720 | D_Real_Score: 0.5767 | D_Fake_Score: 0.4132 | D_Loss: 1.2095 | G_Loss: 0.9876 | C_Loss: 0.0013  | C_Accuracy: 99.9800\nclassification_loss: 0.9089467262644563 | classification_accuracy: 71.4286\nEpoch [22/50] | D_Loss_Real: 0.6105 | D_Loss_Fake: 0.5249 | D_Real_Score: 0.6051 | D_Fake_Score: 0.3867 | D_Loss: 1.1354 | G_Loss: 1.0973 | C_Loss: 0.0103  | C_Accuracy: 99.6805\nclassification_loss: 1.9417715621016214 | classification_accuracy: 74.2857\nEpoch [23/50] | D_Loss_Real: 0.5986 | D_Loss_Fake: 0.4824 | D_Real_Score: 0.6260 | D_Fake_Score: 0.3621 | D_Loss: 1.0809 | G_Loss: 1.1278 | C_Loss: 0.0002  | C_Accuracy: 100.0000\nclassification_loss: 1.732967342363342 | classification_accuracy: 62.8571\nEpoch [24/50] | D_Loss_Real: 0.5611 | D_Loss_Fake: 0.4473 | D_Real_Score: 0.6497 | D_Fake_Score: 0.3366 | D_Loss: 1.0084 | G_Loss: 1.2470 | C_Loss: 0.0004  | C_Accuracy: 99.9900\nclassification_loss: 1.2074164521264237 | classification_accuracy: 78.5714\nEpoch [25/50] | D_Loss_Real: 0.5084 | D_Loss_Fake: 0.3951 | D_Real_Score: 0.6785 | D_Fake_Score: 0.2990 | D_Loss: 0.9035 | G_Loss: 1.4698 | C_Loss: 0.0190  | C_Accuracy: 99.6805\nclassification_loss: 2.796437759697613 | classification_accuracy: 57.1429\nEpoch [26/50] | D_Loss_Real: 0.4722 | D_Loss_Fake: 0.3593 | D_Real_Score: 0.6965 | D_Fake_Score: 0.2747 | D_Loss: 0.8315 | G_Loss: 1.5206 | C_Loss: 0.0006  | C_Accuracy: 99.9900\nclassification_loss: 2.0746694956736036 | classification_accuracy: 61.4286\nEpoch [27/50] | D_Loss_Real: 0.3832 | D_Loss_Fake: 0.2922 | D_Real_Score: 0.7410 | D_Fake_Score: 0.2282 | D_Loss: 0.6754 | G_Loss: 1.7939 | C_Loss: 0.0009  | C_Accuracy: 99.9800\nclassification_loss: 2.6109020401643384 | classification_accuracy: 72.8571\nEpoch [28/50] | D_Loss_Real: 0.3187 | D_Loss_Fake: 0.2443 | D_Real_Score: 0.7776 | D_Fake_Score: 0.1915 | D_Loss: 0.5630 | G_Loss: 2.0962 | C_Loss: 0.0009  | C_Accuracy: 99.9700\nclassification_loss: 2.89006877825599 | classification_accuracy: 71.4286\nEpoch [29/50] | D_Loss_Real: 0.2402 | D_Loss_Fake: 0.1875 | D_Real_Score: 0.8252 | D_Fake_Score: 0.1485 | D_Loss: 0.4277 | G_Loss: 2.5554 | C_Loss: 0.0086  | C_Accuracy: 99.8203\nclassification_loss: 1.7075442048812224 | classification_accuracy: 71.4286\nEpoch [30/50] | D_Loss_Real: 0.2042 | D_Loss_Fake: 0.1680 | D_Real_Score: 0.8509 | D_Fake_Score: 0.1289 | D_Loss: 0.3722 | G_Loss: 2.9703 | C_Loss: 0.0001  | C_Accuracy: 100.0000\nclassification_loss: 2.3575125195479165 | classification_accuracy: 71.4286\nEpoch [31/50] | D_Loss_Real: 0.1582 | D_Loss_Fake: 0.1278 | D_Real_Score: 0.8818 | D_Fake_Score: 0.1010 | D_Loss: 0.2860 | G_Loss: 3.4201 | C_Loss: 0.0181  | C_Accuracy: 99.7204\nclassification_loss: 1.294260275210872 | classification_accuracy: 85.7143\nEpoch [32/50] | D_Loss_Real: 0.1354 | D_Loss_Fake: 0.1091 | D_Real_Score: 0.8982 | D_Fake_Score: 0.0863 | D_Loss: 0.2445 | G_Loss: 3.8151 | C_Loss: 0.0005  | C_Accuracy: 99.9900\nclassification_loss: 1.017089143904465 | classification_accuracy: 84.2857\nEpoch [33/50] | D_Loss_Real: 0.1076 | D_Loss_Fake: 0.0849 | D_Real_Score: 0.9205 | D_Fake_Score: 0.0663 | D_Loss: 0.1925 | G_Loss: 3.9343 | C_Loss: 0.0001  | C_Accuracy: 100.0000\nclassification_loss: 2.988348741183484 | classification_accuracy: 74.2857\nEpoch [34/50] | D_Loss_Real: 0.0931 | D_Loss_Fake: 0.0776 | D_Real_Score: 0.9293 | D_Fake_Score: 0.0601 | D_Loss: 0.1707 | G_Loss: 4.6909 | C_Loss: 0.0001  | C_Accuracy: 100.0000\nclassification_loss: 2.3851943162725115 | classification_accuracy: 74.2857\nEpoch [35/50] | D_Loss_Real: 0.0829 | D_Loss_Fake: 0.0641 | D_Real_Score: 0.9407 | D_Fake_Score: 0.0492 | D_Loss: 0.1471 | G_Loss: 4.9737 | C_Loss: 0.0373  | C_Accuracy: 99.6106\nclassification_loss: 1.5000622119513147 | classification_accuracy: 75.7143\nEpoch [36/50] | D_Loss_Real: 0.0738 | D_Loss_Fake: 0.0627 | D_Real_Score: 0.9459 | D_Fake_Score: 0.0479 | D_Loss: 0.1365 | G_Loss: 5.1412 | C_Loss: 0.0002  | C_Accuracy: 100.0000\nclassification_loss: 1.8919090258947964 | classification_accuracy: 72.8571\nEpoch [37/50] | D_Loss_Real: 0.0600 | D_Loss_Fake: 0.0524 | D_Real_Score: 0.9540 | D_Fake_Score: 0.0387 | D_Loss: 0.1124 | G_Loss: 5.6662 | C_Loss: 0.0001  | C_Accuracy: 100.0000\nclassification_loss: 2.347123087508927 | classification_accuracy: 77.1429\nEpoch [38/50] | D_Loss_Real: 0.0514 | D_Loss_Fake: 0.0442 | D_Real_Score: 0.9607 | D_Fake_Score: 0.0330 | D_Loss: 0.0957 | G_Loss: 6.0874 | C_Loss: 0.0024  | C_Accuracy: 99.9700\nclassification_loss: 2.3938519921204198 | classification_accuracy: 77.1429\nEpoch [39/50] | D_Loss_Real: 0.0459 | D_Loss_Fake: 0.0419 | D_Real_Score: 0.9658 | D_Fake_Score: 0.0308 | D_Loss: 0.0878 | G_Loss: 6.2485 | C_Loss: 0.0002  | C_Accuracy: 100.0000\nclassification_loss: 2.0039223246811355 | classification_accuracy: 70.0000\nEpoch [40/50] | D_Loss_Real: 0.0450 | D_Loss_Fake: 0.0371 | D_Real_Score: 0.9671 | D_Fake_Score: 0.0272 | D_Loss: 0.0821 | G_Loss: 6.5771 | C_Loss: 0.0036  | C_Accuracy: 99.8802\nclassification_loss: 2.378915765920484 | classification_accuracy: 75.7143\nEpoch [41/50] | D_Loss_Real: 0.0372 | D_Loss_Fake: 0.0330 | D_Real_Score: 0.9725 | D_Fake_Score: 0.0247 | D_Loss: 0.0702 | G_Loss: 7.0329 | C_Loss: 0.0058  | C_Accuracy: 99.9002\nclassification_loss: 3.391734594776218 | classification_accuracy: 77.1429\nEpoch [42/50] | D_Loss_Real: 0.0305 | D_Loss_Fake: 0.0262 | D_Real_Score: 0.9754 | D_Fake_Score: 0.0207 | D_Loss: 0.0567 | G_Loss: 7.2235 | C_Loss: 0.0000  | C_Accuracy: 100.0000\nclassification_loss: 3.1101321821708034 | classification_accuracy: 75.7143\nEpoch [43/50] | D_Loss_Real: 0.0440 | D_Loss_Fake: 0.0350 | D_Real_Score: 0.9707 | D_Fake_Score: 0.0257 | D_Loss: 0.0791 | G_Loss: 7.6726 | C_Loss: 0.0369  | C_Accuracy: 99.3610\nclassification_loss: 5.7950493727407615 | classification_accuracy: 70.0000\nEpoch [44/50] | D_Loss_Real: 0.0258 | D_Loss_Fake: 0.0214 | D_Real_Score: 0.9799 | D_Fake_Score: 0.0169 | D_Loss: 0.0472 | G_Loss: 7.8277 | C_Loss: 0.0000  | C_Accuracy: 100.0000\nclassification_loss: 3.8589599012310414 | classification_accuracy: 71.4286\nEpoch [45/50] | D_Loss_Real: 0.0270 | D_Loss_Fake: 0.0249 | D_Real_Score: 0.9803 | D_Fake_Score: 0.0178 | D_Loss: 0.0519 | G_Loss: 8.1495 | C_Loss: 0.0002  | C_Accuracy: 99.9900\nclassification_loss: 0.9737968976067383 | classification_accuracy: 88.5714\nEpoch [46/50] | D_Loss_Real: 0.0255 | D_Loss_Fake: 0.0283 | D_Real_Score: 0.9807 | D_Fake_Score: 0.0200 | D_Loss: 0.0538 | G_Loss: 8.7324 | C_Loss: 0.0303  | C_Accuracy: 99.6406\nclassification_loss: 1.2626014603004607 | classification_accuracy: 78.5714\nEpoch [47/50] | D_Loss_Real: 0.0187 | D_Loss_Fake: 0.0130 | D_Real_Score: 0.9894 | D_Fake_Score: 0.0096 | D_Loss: 0.0317 | G_Loss: 10.1054 | C_Loss: 0.0303  | C_Accuracy: 99.6106\nclassification_loss: 2.9558631624483627 | classification_accuracy: 65.7143\nEpoch [48/50] | D_Loss_Real: 0.0047 | D_Loss_Fake: 0.0038 | D_Real_Score: 0.9961 | D_Fake_Score: 0.0031 | D_Loss: 0.0085 | G_Loss: 11.7915 | C_Loss: 0.0006  | C_Accuracy: 99.9900\nclassification_loss: 2.8821287210219446 | classification_accuracy: 71.4286\nEpoch [49/50] | D_Loss_Real: 0.0023 | D_Loss_Fake: 0.0022 | D_Real_Score: 0.9980 | D_Fake_Score: 0.0017 | D_Loss: 0.0044 | G_Loss: 12.9727 | C_Loss: 0.0026  | C_Accuracy: 99.9401\nclassification_loss: 4.901034821487883 | classification_accuracy: 72.8571\nEpoch [50/50] | D_Loss_Real: 0.0014 | D_Loss_Fake: 0.0018 | D_Real_Score: 0.9987 | D_Fake_Score: 0.0013 | D_Loss: 0.0032 | G_Loss: 13.9872 | C_Loss: 0.0001  | C_Accuracy: 100.0000\nclassification_loss: 1.5758355091575393 | classification_accuracy: 82.8571\n",
          "output_type": "stream"
        }
      ],
      "id": "9uho5xoPGUN3"
    },
    {
      "cell_type": "code",
      "source": [
        "torch.save(generator.state_dict(), 'generator.pth')"
      ],
      "metadata": {
        "execution": {
          "iopub.status.busy": "2024-04-14T16:58:41.212852Z",
          "iopub.execute_input": "2024-04-14T16:58:41.213777Z",
          "iopub.status.idle": "2024-04-14T16:58:41.362585Z",
          "shell.execute_reply.started": "2024-04-14T16:58:41.213735Z",
          "shell.execute_reply": "2024-04-14T16:58:41.361778Z"
        },
        "trusted": true,
        "id": "RXfqiPgHGUN4"
      },
      "execution_count": null,
      "outputs": [],
      "id": "RXfqiPgHGUN4"
    },
    {
      "cell_type": "code",
      "source": [
        "import torch\n",
        "import torchvision.transforms as transforms\n",
        "from PIL import Image\n",
        "\n",
        "# Load the PNG image\n",
        "image_path = \"/kaggle/input/generated-image/image gen.png\"\n",
        "gen_image = Image.open(image_path)\n",
        "\n"
      ],
      "metadata": {
        "execution": {
          "iopub.status.busy": "2024-04-14T18:10:41.93306Z",
          "iopub.execute_input": "2024-04-14T18:10:41.933922Z",
          "iopub.status.idle": "2024-04-14T18:10:41.945773Z",
          "shell.execute_reply.started": "2024-04-14T18:10:41.933889Z",
          "shell.execute_reply": "2024-04-14T18:10:41.944809Z"
        },
        "trusted": true,
        "id": "LwC1V-1oGUN4"
      },
      "execution_count": null,
      "outputs": [],
      "id": "LwC1V-1oGUN4"
    },
    {
      "cell_type": "code",
      "source": [
        "import torch\n",
        "import torchvision.transforms as transforms\n",
        "from PIL import Image\n",
        "\n",
        "# Load the PNG image\n",
        "image_path = \"/kaggle/input/original/Original_sample.png\"\n",
        "orig_image = Image.open(image_path)\n",
        "\n"
      ],
      "metadata": {
        "execution": {
          "iopub.status.busy": "2024-04-14T18:10:44.981868Z",
          "iopub.execute_input": "2024-04-14T18:10:44.982283Z",
          "iopub.status.idle": "2024-04-14T18:10:44.989053Z",
          "shell.execute_reply.started": "2024-04-14T18:10:44.982251Z",
          "shell.execute_reply": "2024-04-14T18:10:44.988151Z"
        },
        "trusted": true,
        "id": "BSRuN-IRGUN5"
      },
      "execution_count": null,
      "outputs": [],
      "id": "BSRuN-IRGUN5"
    },
    {
      "cell_type": "code",
      "source": [
        "# print(tensor[1].shape)"
      ],
      "metadata": {
        "execution": {
          "iopub.status.busy": "2024-04-14T17:24:39.568964Z",
          "iopub.execute_input": "2024-04-14T17:24:39.569351Z",
          "iopub.status.idle": "2024-04-14T17:24:39.576043Z",
          "shell.execute_reply.started": "2024-04-14T17:24:39.569321Z",
          "shell.execute_reply": "2024-04-14T17:24:39.575032Z"
        },
        "trusted": true,
        "id": "g-oIAEU_GUN5",
        "outputId": "8ee0e38f-d6e1-443a-ba54-6791ac9a631f"
      },
      "execution_count": null,
      "outputs": [
        {
          "name": "stdout",
          "text": "(130, 3)\n",
          "output_type": "stream"
        }
      ],
      "id": "g-oIAEU_GUN5"
    },
    {
      "cell_type": "code",
      "source": [
        "import torch\n",
        "import torchvision.transforms as transforms\n",
        "from torchvision.models import inception_v3\n",
        "from scipy.stats import entropy\n",
        "import numpy as np\n",
        "from scipy.linalg import sqrtm\n",
        "\n",
        "# Function to calculate the inception score\n",
        "def inception_score(images, inception_model, splits=10):\n",
        "    preds = torch.nn.functional.softmax(inception_model(images), dim=1)\n",
        "    scores = []\n",
        "    for i in range(splits):\n",
        "        part = preds[i * (images.shape[0] // splits): (i + 1) * (images.shape[0] // splits), :]\n",
        "        kl = part * (torch.log(part) - torch.log(torch.mean(part, dim=0)))\n",
        "\n",
        "        kl = torch.mean(torch.sum(kl, dim=1))\n",
        "\n",
        "        scores.append(torch.exp(kl))\n",
        "    return torch.mean(torch.tensor(scores)), torch.std(torch.tensor(scores))\n",
        "\n",
        "# Function to calculate the FID\n",
        "def calculate_fid(real_features, generated_features):\n",
        "    mu_real, mu_gen = torch.mean(real_features, dim=0), torch.mean(generated_features, dim=0)\n",
        "    sigma_real = torch_cov(real_features)\n",
        "    sigma_gen = torch_cov(generated_features)\n",
        "    sqrt_diff = torch.sqrt(sigma_real.mm(sigma_gen))\n",
        "    if torch.any(torch.isnan(sqrt_diff)):\n",
        "        sqrt_diff[torch.isnan(sqrt_diff)] = 0\n",
        "    fid = torch.norm(mu_real - mu_gen)**2 + torch.trace(sigma_real + sigma_gen - 2 * sqrt_diff)\n",
        "    return fid\n",
        "\n",
        "def torch_cov(x):\n",
        "    mean_x = torch.mean(x, dim=0)\n",
        "    x = x - mean_x.unsqueeze(0)\n",
        "    if x.size(0) <= 1:\n",
        "        return torch.zeros_like(torch.mm(x.t(), x))\n",
        "    return 1 / (x.size(0) - 1) * x.t().mm(x)\n",
        "\n",
        "# Function to preprocess images\n",
        "def preprocess_images(images):\n",
        "    preprocess = transforms.Compose([\n",
        "        transforms.ToTensor(),\n",
        "        transforms.Resize((128, 128)),\n",
        "        transforms.Normalize((0.5, 0.5, 0.5), (0.5, 0.5, 0.5))  # Normalize to [-1, 1]\n",
        "    ])\n",
        "    return preprocess(images).unsqueeze(0)\n",
        "\n",
        "# Load pre-trained Inception model\n",
        "inception_model = inception_v3(pretrained=True, transform_input=False)\n",
        "inception_model.eval()\n",
        "\n",
        "\n",
        "generated_images = gen_image\n",
        "real_images = orig_image\n",
        "\n",
        "# Preprocess images\n",
        "generated_images_preprocessed = preprocess_images(generated_images)\n",
        "real_images_preprocessed = preprocess_images(real_images)\n",
        "# print(real_images_preprocessed)\n",
        "\n",
        "# Compute Inception Score\n",
        "is_mean, is_std = inception_score(generated_images_preprocessed, inception_model)\n",
        "print(\"Inception Score - Mean:\", is_mean.item(), \"Standard Deviation:\", is_std.item())\n",
        "\n",
        "# Compute FID\n",
        "real_features = inception_model(real_images_preprocessed).detach().cpu()\n",
        "generated_features = inception_model(generated_images_preprocessed).detach().cpu()\n",
        "fid = calculate_fid(real_features, generated_features)\n",
        "print(\"FID:\", fid.item())\n"
      ],
      "metadata": {
        "execution": {
          "iopub.status.busy": "2024-04-14T18:36:18.837563Z",
          "iopub.execute_input": "2024-04-14T18:36:18.83828Z",
          "iopub.status.idle": "2024-04-14T18:36:19.411554Z",
          "shell.execute_reply.started": "2024-04-14T18:36:18.838249Z",
          "shell.execute_reply": "2024-04-14T18:36:19.410254Z"
        },
        "trusted": true,
        "id": "aa1T2dT6GUN5"
      },
      "execution_count": null,
      "outputs": [],
      "id": "aa1T2dT6GUN5"
    },
    {
      "cell_type": "code",
      "source": [],
      "metadata": {
        "id": "3y3Q1xRjGUN6"
      },
      "execution_count": null,
      "outputs": [],
      "id": "3y3Q1xRjGUN6"
    }
  ]
}